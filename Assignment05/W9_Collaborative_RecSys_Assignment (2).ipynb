{
  "metadata": {
    "kernelspec": {
      "name": "python",
      "display_name": "Python (Pyodide)",
      "language": "python"
    },
    "language_info": {
      "codemirror_mode": {
        "name": "python",
        "version": 3
      },
      "file_extension": ".py",
      "mimetype": "text/x-python",
      "name": "python",
      "nbconvert_exporter": "python",
      "pygments_lexer": "ipython3",
      "version": "3.8"
    }
  },
  "nbformat_minor": 4,
  "nbformat": 4,
  "cells": [
    {
      "cell_type": "markdown",
      "source": "# <img align=\"left\" src=\"./images/movie_camera.png\"     style=\" width:40px;  \" > Practice lab: Collaborative Filtering Recommender Systems\n\nIn this exercise, you will implement collaborative filtering to build a recommender system for movies. \n\n# <img align=\"left\" src=\"./images/film_reel.png\"     style=\" width:40px;  \" > Outline\n- [ 1 - Notation](#1)\n- [ 2 - Recommender Systems](#2)\n- [ 3 - Movie ratings dataset](#3)\n- [ 4 - Collaborative filtering learning algorithm](#4)\n  - [ 4.1 Collaborative filtering cost function](#4.1)\n    - [ Exercise 1](#ex01)\n- [ 5 - Learning movie recommendations](#5)\n- [ 6 - Recommendations](#6)\n- [ 7 - Congratulations!](#7)\n\n\n",
      "metadata": {
        "id": "Lzk7iX_CodX6",
        "tags": []
      }
    },
    {
      "cell_type": "markdown",
      "source": "_**NOTE:** To prevent errors from the autograder, you are not allowed to edit or delete non-graded cells in this lab. Please also refrain from adding any new cells. \n**Once you have passed this assignment** and want to experiment with any of the non-graded code, you may follow the instructions at the bottom of this notebook._",
      "metadata": {}
    },
    {
      "cell_type": "markdown",
      "source": "##  Packages <img align=\"left\" src=\"./images/film_strip_vertical.png\"     style=\" width:40px;   \" >\nWe will use the now familiar NumPy and Tensorflow Packages.",
      "metadata": {}
    },
    {
      "cell_type": "code",
      "source": "import numpy as np\nimport tensorflow as tf\nfrom tensorflow import keras\nfrom recsys_utils import *",
      "metadata": {
        "deletable": false,
        "editable": false
      },
      "outputs": [],
      "execution_count": 3
    },
    {
      "cell_type": "markdown",
      "source": "<a name=\"1\"></a>\n## 1 - Notation\n",
      "metadata": {}
    },
    {
      "cell_type": "markdown",
      "source": "|General <br />  Notation  | Description| Python (if any) |\n|:-------------|:------------------------------------------------------------||\n| $r(i,j)$     | scalar; = 1  if user j rated movie i  = 0  otherwise             ||\n| $y(i,j)$     | scalar; = rating given by user j on movie  i    (if r(i,j) = 1 is defined) ||\n|$\\mathbf{w}^{(j)}$ | vector; parameters for user j ||\n|$b^{(j)}$     |  scalar; parameter for user j ||\n| $\\mathbf{x}^{(i)}$ |   vector; feature ratings for movie i        ||     \n| $n_u$        | number of users |num_users|\n| $n_m$        | number of movies | num_movies |\n| $n$          | number of features | num_features                    |\n| $\\mathbf{X}$ |  matrix of vectors $\\mathbf{x}^{(i)}$         | X |\n| $\\mathbf{W}$ |  matrix of vectors $\\mathbf{w}^{(j)}$         | W |\n| $\\mathbf{b}$ |  vector of bias parameters $b^{(j)}$ | b |\n| $\\mathbf{R}$ | matrix of elements $r(i,j)$                    | R |\n\n",
      "metadata": {}
    },
    {
      "cell_type": "markdown",
      "source": "<a name=\"2\"></a>\n## 2 - Recommender Systems <img align=\"left\" src=\"./images/film_rating.png\" style=\" width:40px;  \" >\nIn this lab, you will implement the collaborative filtering learning algorithm and apply it to a dataset of movie ratings.\nThe goal of a collaborative filtering recommender system is to generate two vectors: For each user, a 'parameter vector' that embodies the movie tastes of a user. For each movie, a feature vector of the same size which embodies some description of the movie. The dot product of the two vectors plus the bias term should produce an estimate of the rating the user might give to that movie.\n\nThe diagram below details how these vectors are learned.",
      "metadata": {
        "tags": []
      }
    },
    {
      "cell_type": "markdown",
      "source": "<figure>\n   <img src=\"./images/ColabFilterLearn.PNG\"  style=\"width:740px;height:250px;\" >\n</figure>",
      "metadata": {}
    },
    {
      "cell_type": "markdown",
      "source": "Existing ratings are provided in matrix form as shown. $Y$ contains ratings; 0.5 to 5 inclusive in 0.5 steps. 0 if the movie has not been rated. $R$ has a 1 where movies have been rated. Movies are in rows, users in columns. Each user has a parameter vector $w^{user}$ and bias. Each movie has a feature vector $x^{movie}$. These vectors are simultaneously learned by using the existing user/movie ratings as training data. One training example is shown above: $\\mathbf{w}^{(1)} \\cdot \\mathbf{x}^{(1)} + b^{(1)} = 4$. It is worth noting that the feature vector $x^{movie}$ must satisfy all the users while the user vector $w^{user}$ must satisfy all the movies. This is the source of the name of this approach - all the users collaborate to generate the rating set. ",
      "metadata": {}
    },
    {
      "cell_type": "markdown",
      "source": "<figure>\n   <img src=\"./images/ColabFilterUse.PNG\"  style=\"width:640px;height:250px;\" >\n</figure>",
      "metadata": {}
    },
    {
      "cell_type": "markdown",
      "source": "Once the feature vectors and parameters are learned, they can be used to predict how a user might rate an unrated movie. This is shown in the diagram above. The equation is an example of predicting a rating for user one on movie zero.",
      "metadata": {}
    },
    {
      "cell_type": "markdown",
      "source": "\nIn this exercise, you will implement the function `cofiCostFunc` that computes the collaborative filtering\nobjective function. After implementing the objective function, you will use a TensorFlow custom training loop to learn the parameters for collaborative filtering. The first step is to detail the data set and data structures that will be used in the lab.",
      "metadata": {}
    },
    {
      "cell_type": "markdown",
      "source": "<a name=\"3\"></a>\n## 3 - Movie ratings dataset <img align=\"left\" src=\"./images/film_rating.png\"     style=\" width:40px;  \" >\nThe data set is derived from the [MovieLens \"ml-latest-small\"](https://grouplens.org/datasets/movielens/latest/) dataset.   \n[F. Maxwell Harper and Joseph A. Konstan. 2015. The MovieLens Datasets: History and Context. ACM Transactions on Interactive Intelligent Systems (TiiS) 5, 4: 19:1–19:19. <https://doi.org/10.1145/2827872>]\n\nThe original dataset has  9000 movies rated by 600 users. The dataset has been reduced in size to focus on movies from the years since 2000. This dataset consists of ratings on a scale of 0.5 to 5 in 0.5 step increments. The reduced dataset has $n_u = 443$ users, and $n_m= 4778$ movies. \n\nBelow, you will load the movie dataset into the variables $Y$ and $R$.\n\nThe matrix $Y$ (a  $n_m \\times n_u$ matrix) stores the ratings $y^{(i,j)}$. The matrix $R$ is an binary-valued indicator matrix, where $R(i,j) = 1$ if user $j$ gave a rating to movie $i$, and $R(i,j)=0$ otherwise. \n\nThroughout this part of the exercise, you will also be working with the\nmatrices, $\\mathbf{X}$, $\\mathbf{W}$ and $\\mathbf{b}$: \n\n$$\\mathbf{X} = \n\\begin{bmatrix}\n--- (\\mathbf{x}^{(0)})^T --- \\\\\n--- (\\mathbf{x}^{(1)})^T --- \\\\\n\\vdots \\\\\n--- (\\mathbf{x}^{(n_m-1)})^T --- \\\\\n\\end{bmatrix} , \\quad\n\\mathbf{W} = \n\\begin{bmatrix}\n--- (\\mathbf{w}^{(0)})^T --- \\\\\n--- (\\mathbf{w}^{(1)})^T --- \\\\\n\\vdots \\\\\n--- (\\mathbf{w}^{(n_u-1)})^T --- \\\\\n\\end{bmatrix},\\quad\n\\mathbf{ b} = \n\\begin{bmatrix}\n b^{(0)}  \\\\\n b^{(1)} \\\\\n\\vdots \\\\\nb^{(n_u-1)} \\\\\n\\end{bmatrix}\\quad\n$$ \n\nThe $i$-th row of $\\mathbf{X}$ corresponds to the\nfeature vector $x^{(i)}$ for the $i$-th movie, and the $j$-th row of\n$\\mathbf{W}$ corresponds to one parameter vector $\\mathbf{w}^{(j)}$, for the\n$j$-th user. Both $x^{(i)}$ and $\\mathbf{w}^{(j)}$ are $n$-dimensional\nvectors. For the purposes of this exercise, you will use $n=10$, and\ntherefore, $\\mathbf{x}^{(i)}$ and $\\mathbf{w}^{(j)}$ have 10 elements.\nCorrespondingly, $\\mathbf{X}$ is a\n$n_m \\times 10$ matrix and $\\mathbf{W}$ is a $n_u \\times 10$ matrix.\n\nWe will start by loading the movie ratings dataset to understand the structure of the data.\nWe will load $Y$ and $R$ with the movie dataset.  \nWe'll also load $\\mathbf{X}$, $\\mathbf{W}$, and $\\mathbf{b}$ with pre-computed values. These values will be learned later in the lab, but we'll use pre-computed values to develop the cost model.",
      "metadata": {
        "id": "6-09Hto6odYD"
      }
    },
    {
      "cell_type": "code",
      "source": "#Load data\nX, W, b, num_movies, num_features, num_users = load_precalc_params_small()\nY, R = load_ratings_small()\n\nprint(\"Y\", Y.shape, \"R\", R.shape)\nprint(\"X\", X.shape)\nprint(\"W\", W.shape)\nprint(\"b\", b.shape)\nprint(\"num_features\", num_features)\nprint(\"num_movies\",   num_movies)\nprint(\"num_users\",    num_users)",
      "metadata": {
        "deletable": false,
        "editable": false
      },
      "outputs": [
        {
          "name": "stdout",
          "output_type": "stream",
          "text": [
            "Y (4778, 443) R (4778, 443)\n",
            "X (4778, 10)\n",
            "W (443, 10)\n",
            "b (1, 443)\n",
            "num_features 10\n",
            "num_movies 4778\n",
            "num_users 443\n"
          ]
        }
      ],
      "execution_count": 4
    },
    {
      "cell_type": "code",
      "source": "#  From the matrix, we can compute statistics like average rating.\ntsmean =  np.mean(Y[0, R[0, :].astype(bool)])\nprint(f\"Average rating for movie 1 : {tsmean:0.3f} / 5\" )",
      "metadata": {
        "deletable": false,
        "editable": false,
        "id": "bxm1O_wbodYF"
      },
      "outputs": [
        {
          "name": "stdout",
          "output_type": "stream",
          "text": [
            "Average rating for movie 1 : 3.400 / 5\n"
          ]
        }
      ],
      "execution_count": 6
    },
    {
      "cell_type": "markdown",
      "source": "<a name=\"4\"></a>\n## 4 - Collaborative filtering learning algorithm <img align=\"left\" src=\"./images/film_filter.png\"     style=\" width:40px;  \" >\n\nNow, you will begin implementing the collaborative filtering learning\nalgorithm. You will start by implementing the objective function. \n\nThe collaborative filtering algorithm in the setting of movie\nrecommendations considers a set of $n$-dimensional parameter vectors\n$\\mathbf{x}^{(0)},...,\\mathbf{x}^{(n_m-1)}$, $\\mathbf{w}^{(0)},...,\\mathbf{w}^{(n_u-1)}$ and $b^{(0)},...,b^{(n_u-1)}$, where the\nmodel predicts the rating for movie $i$ by user $j$ as\n$y^{(i,j)} = \\mathbf{w}^{(j)}\\cdot \\mathbf{x}^{(i)} + b^{(j)}$ . Given a dataset that consists of\na set of ratings produced by some users on some movies, you wish to\nlearn the parameter vectors $\\mathbf{x}^{(0)},...,\\mathbf{x}^{(n_m-1)},\n\\mathbf{w}^{(0)},...,\\mathbf{w}^{(n_u-1)}$  and $b^{(0)},...,b^{(n_u-1)}$ that produce the best fit (minimizes\nthe squared error).\n\nYou will complete the code in cofiCostFunc to compute the cost\nfunction for collaborative filtering. ",
      "metadata": {}
    },
    {
      "cell_type": "markdown",
      "source": "\n<a name=\"4.1\"></a>\n### 4.1 Collaborative filtering cost function\n\nThe collaborative filtering cost function is given by\n$$J({\\mathbf{x}^{(0)},...,\\mathbf{x}^{(n_m-1)},\\mathbf{w}^{(0)},b^{(0)},...,\\mathbf{w}^{(n_u-1)},b^{(n_u-1)}})= \\left[ \\frac{1}{2}\\sum_{(i,j):r(i,j)=1}(\\mathbf{w}^{(j)} \\cdot \\mathbf{x}^{(i)} + b^{(j)} - y^{(i,j)})^2 \\right]\n+ \\underbrace{\\left[\n\\frac{\\lambda}{2}\n\\sum_{j=0}^{n_u-1}\\sum_{k=0}^{n-1}(\\mathbf{w}^{(j)}_k)^2\n+ \\frac{\\lambda}{2}\\sum_{i=0}^{n_m-1}\\sum_{k=0}^{n-1}(\\mathbf{x}_k^{(i)})^2\n\\right]}_{regularization}\n\\tag{1}$$\nThe first summation in (1) is \"for all $i$, $j$ where $r(i,j)$ equals $1$\" and could be written:\n\n$$\n= \\left[ \\frac{1}{2}\\sum_{j=0}^{n_u-1} \\sum_{i=0}^{n_m-1}r(i,j)*(\\mathbf{w}^{(j)} \\cdot \\mathbf{x}^{(i)} + b^{(j)} - y^{(i,j)})^2 \\right]\n+\\text{regularization}\n$$\n\nYou should now write cofiCostFunc (collaborative filtering cost function) to return this cost.",
      "metadata": {
        "id": "bcqg0LJWodYH"
      }
    },
    {
      "cell_type": "markdown",
      "source": "<a name=\"ex01\"></a>\n### Exercise 1\n\n**For loop Implementation:**   \nStart by implementing the cost function using for loops.\nConsider developing the cost function in two steps. First, develop the cost function without regularization. A test case that does not include regularization is provided below to test your implementation. Once that is working, add regularization and run the tests that include regularization.  Note that you should be accumulating the cost for user $j$ and movie $i$ only if $R(i,j) = 1$.",
      "metadata": {}
    },
    {
      "cell_type": "code",
      "source": "# GRADED FUNCTION: cofi_cost_func\n# UNQ_C1\n\ndef cofi_cost_func(X, W, b, Y, R, lambda_):\n    \"\"\"\n    Returns the cost for the content-based filtering\n    Args:\n      X (ndarray (num_movies,num_features)): matrix of item features\n      W (ndarray (num_users,num_features)) : matrix of user parameters\n      b (ndarray (1, num_users)            : vector of user parameters\n      Y (ndarray (num_movies,num_users)    : matrix of user ratings of movies\n      R (ndarray (num_movies,num_users)    : matrix, where R(i, j) = 1 if the i-th movies was rated by the j-th user\n      lambda_ (float): regularization parameter\n    Returns:\n      J (float) : Cost\n    \"\"\"\n    nm, nu = Y.shape\n    J = 0\n    ### START CODE HERE ###  \n    \n    # print(\"X\", X)\n    # print(\"W\", W)\n    # print(\"b\", b)\n    # print(\"R\", R)\n    # print(\"Y\", Y)\n    # print(\"lambda_\", lambda_)\n\n    for j in range(nu):\n        for i in range(nm):\n            J +=  R[i,j] * (np.dot(W[j,:], X[i,:]) + b[0,j] - Y[i,j])**2\n    J /= 2\n\n    \n    J += lambda_ * (np.sum(W**2) + np.sum(X**2)) / 2\n    \n    ### END CODE HERE ### \n\n    return J",
      "metadata": {
        "deletable": false
      },
      "outputs": [],
      "execution_count": 59
    },
    {
      "cell_type": "code",
      "source": "# Reduce the data set size so that this runs faster\nnum_users_r = 4\nnum_movies_r = 5 \nnum_features_r = 3\n\nX_r = X[:num_movies_r, :num_features_r]\nW_r = W[:num_users_r,  :num_features_r]\nb_r = b[0, :num_users_r].reshape(1,-1)\nY_r = Y[:num_movies_r, :num_users_r]\nR_r = R[:num_movies_r, :num_users_r]\n\n# Evaluate cost function\nJ = cofi_cost_func(X_r, W_r, b_r, Y_r, R_r, 0);\nprint(f\"Cost: {J:0.2f}\")",
      "metadata": {
        "deletable": false,
        "editable": false
      },
      "outputs": [
        {
          "name": "stdout",
          "output_type": "stream",
          "text": [
            "Cost: 13.67\n"
          ]
        }
      ],
      "execution_count": 60
    },
    {
      "cell_type": "markdown",
      "source": "**Expected Output (lambda = 0)**:  \n$13.67$.",
      "metadata": {
        "id": "xGznmQ91odYL"
      }
    },
    {
      "cell_type": "code",
      "source": "# Evaluate cost function with regularization \nJ = cofi_cost_func(X_r, W_r, b_r, Y_r, R_r, 1.5);\nprint(f\"Cost (with regularization): {J:0.2f}\")",
      "metadata": {
        "deletable": false,
        "editable": false
      },
      "outputs": [
        {
          "name": "stdout",
          "output_type": "stream",
          "text": [
            "Cost (with regularization): 28.09\n"
          ]
        }
      ],
      "execution_count": 61
    },
    {
      "cell_type": "markdown",
      "source": "**Expected Output**:\n\n28.09",
      "metadata": {
        "id": "1xbepzUUodYP"
      }
    },
    {
      "cell_type": "code",
      "source": "# Public tests\nfrom public_tests import *\ntest_cofi_cost_func(cofi_cost_func)",
      "metadata": {
        "deletable": false,
        "editable": false
      },
      "outputs": [
        {
          "name": "stdout",
          "output_type": "stream",
          "text": [
            "\u001b[92mAll tests passed!\n"
          ]
        }
      ],
      "execution_count": 63
    },
    {
      "cell_type": "markdown",
      "source": "**Vectorized Implementation**\n\nIt is important to create a vectorized implementation to compute $J$, since it will later be called many times during optimization. The linear algebra utilized is not the focus of this series, so the implementation is provided. If you are an expert in linear algebra, feel free to create your version without referencing the code below. \n\nRun the code below and verify that it produces the same results as the non-vectorized version.",
      "metadata": {}
    },
    {
      "cell_type": "code",
      "source": "def cofi_cost_func_v(X, W, b, Y, R, lambda_):\n    \"\"\"\n    Returns the cost for the content-based filtering\n    Vectorized for speed. Uses tensorflow operations to be compatible with custom training loop.\n    Args:\n      X (ndarray (num_movies,num_features)): matrix of item features\n      W (ndarray (num_users,num_features)) : matrix of user parameters\n      b (ndarray (1, num_users)            : vector of user parameters\n      Y (ndarray (num_movies,num_users)    : matrix of user ratings of movies\n      R (ndarray (num_movies,num_users)    : matrix, where R(i, j) = 1 if the i-th movies was rated by the j-th user\n      lambda_ (float): regularization parameter\n    Returns:\n      J (float) : Cost\n    \"\"\"\n    j = (tf.linalg.matmul(X, tf.transpose(W)) + b - Y)*R\n    J = 0.5 * tf.reduce_sum(j**2) + (lambda_/2) * (tf.reduce_sum(X**2) + tf.reduce_sum(W**2))\n    return J",
      "metadata": {
        "deletable": false,
        "editable": false
      },
      "outputs": [],
      "execution_count": 64
    },
    {
      "cell_type": "code",
      "source": "# Evaluate cost function\nJ = cofi_cost_func_v(X_r, W_r, b_r, Y_r, R_r, 0);\nprint(f\"Cost: {J:0.2f}\")\n\n# Evaluate cost function with regularization \nJ = cofi_cost_func_v(X_r, W_r, b_r, Y_r, R_r, 1.5);\nprint(f\"Cost (with regularization): {J:0.2f}\")",
      "metadata": {
        "deletable": false,
        "editable": false
      },
      "outputs": [
        {
          "name": "stdout",
          "output_type": "stream",
          "text": [
            "Cost: 13.67\n",
            "Cost (with regularization): 28.09\n"
          ]
        }
      ],
      "execution_count": 65
    },
    {
      "cell_type": "markdown",
      "source": "**Expected Output**:  \nCost: 13.67  \nCost (with regularization): 28.09",
      "metadata": {
        "id": "1xbepzUUodYP"
      }
    },
    {
      "cell_type": "markdown",
      "source": "<a name=\"5\"></a>\n## 5 - Learning movie recommendations <img align=\"left\" src=\"./images/film_man_action.png\" style=\" width:40px;  \" >\n------------------------------\n\nAfter you have finished implementing the collaborative filtering cost\nfunction, you can start training your algorithm to make\nmovie recommendations for yourself. \n\nIn the cell below, you can enter your own movie choices. The algorithm will then make recommendations for you! We have filled out some values according to our preferences, but after you have things working with our choices, you should change this to match your tastes.\nA list of all movies in the dataset is in the file [movie list](data/small_movie_list.csv).",
      "metadata": {
        "id": "ilaeM8yWodYR"
      }
    },
    {
      "cell_type": "code",
      "source": "movieList, movieList_df = load_Movie_List_pd()\n\nmy_ratings = np.zeros(num_movies)          #  Initialize my ratings\n\n# Check the file small_movie_list.csv for id of each movie in our dataset\n# For example, Toy Story 3 (2010) has ID 2700, so to rate it \"5\", you can set\nmy_ratings[2700] = 5 \n\n#Or suppose you did not enjoy Persuasion (2007), you can set\nmy_ratings[2609] = 2;\n\n# We have selected a few movies we liked / did not like and the ratings we\n# gave are as follows:\nmy_ratings[929]  = 5   # Lord of the Rings: The Return of the King, The\nmy_ratings[246]  = 5   # Shrek (2001)\nmy_ratings[2716] = 3   # Inception\nmy_ratings[1150] = 5   # Incredibles, The (2004)\nmy_ratings[382]  = 2   # Amelie (Fabuleux destin d'Amélie Poulain, Le)\nmy_ratings[366]  = 5   # Harry Potter and the Sorcerer's Stone (a.k.a. Harry Potter and the Philosopher's Stone) (2001)\nmy_ratings[622]  = 5   # Harry Potter and the Chamber of Secrets (2002)\nmy_ratings[988]  = 3   # Eternal Sunshine of the Spotless Mind (2004)\nmy_ratings[2925] = 1   # Louis Theroux: Law & Disorder (2008)\nmy_ratings[2937] = 1   # Nothing to Declare (Rien à déclarer)\nmy_ratings[793]  = 5   # Pirates of the Caribbean: The Curse of the Black Pearl (2003)\nmy_rated = [i for i in range(len(my_ratings)) if my_ratings[i] > 0]\n\nprint('\\nNew user ratings:\\n')\nfor i in range(len(my_ratings)):\n    if my_ratings[i] > 0 :\n        print(f'Rated {my_ratings[i]} for  {movieList_df.loc[i,\"title\"]}');",
      "metadata": {
        "deletable": false,
        "id": "WJO8Jr0UodYR"
      },
      "outputs": [
        {
          "name": "stdout",
          "output_type": "stream",
          "text": [
            "\n",
            "New user ratings:\n",
            "\n",
            "Rated 5.0 for  Shrek (2001)\n",
            "Rated 5.0 for  Harry Potter and the Sorcerer's Stone (a.k.a. Harry Potter and the Philosopher's Stone) (2001)\n",
            "Rated 2.0 for  Amelie (Fabuleux destin d'Amélie Poulain, Le) (2001)\n",
            "Rated 5.0 for  Harry Potter and the Chamber of Secrets (2002)\n",
            "Rated 5.0 for  Pirates of the Caribbean: The Curse of the Black Pearl (2003)\n",
            "Rated 5.0 for  Lord of the Rings: The Return of the King, The (2003)\n",
            "Rated 3.0 for  Eternal Sunshine of the Spotless Mind (2004)\n",
            "Rated 5.0 for  Incredibles, The (2004)\n",
            "Rated 2.0 for  Persuasion (2007)\n",
            "Rated 5.0 for  Toy Story 3 (2010)\n",
            "Rated 3.0 for  Inception (2010)\n",
            "Rated 1.0 for  Louis Theroux: Law & Disorder (2008)\n",
            "Rated 1.0 for  Nothing to Declare (Rien à déclarer) (2010)\n"
          ]
        }
      ],
      "execution_count": 66
    },
    {
      "cell_type": "markdown",
      "source": "Now, let's add these reviews to $Y$ and $R$ and normalize the ratings.",
      "metadata": {}
    },
    {
      "cell_type": "code",
      "source": "# Reload ratings\nY, R = load_ratings_small()\n\n# Add new user ratings to Y \nY = np.c_[my_ratings, Y]\n\n# Add new user indicator matrix to R\nR = np.c_[(my_ratings != 0).astype(int), R]\n\n# Normalize the Dataset\nYnorm, Ymean = normalizeRatings(Y, R)",
      "metadata": {
        "deletable": false,
        "editable": false
      },
      "outputs": [],
      "execution_count": 67
    },
    {
      "cell_type": "markdown",
      "source": "Let's prepare to train the model. Initialize the parameters and select the Adam optimizer.",
      "metadata": {}
    },
    {
      "cell_type": "code",
      "source": "#  Useful Values\nnum_movies, num_users = Y.shape\nnum_features = 100\n\n# Set Initial Parameters (W, X), use tf.Variable to track these variables\ntf.random.set_seed(1234) # for consistent results\nW = tf.Variable(tf.random.normal((num_users,  num_features),dtype=tf.float64),  name='W')\nX = tf.Variable(tf.random.normal((num_movies, num_features),dtype=tf.float64),  name='X')\nb = tf.Variable(tf.random.normal((1,          num_users),   dtype=tf.float64),  name='b')\n\n# Instantiate an optimizer.\noptimizer = keras.optimizers.Adam(learning_rate=1e-1)",
      "metadata": {
        "deletable": false,
        "editable": false,
        "tags": []
      },
      "outputs": [],
      "execution_count": 68
    },
    {
      "cell_type": "markdown",
      "source": "Let's now train the collaborative filtering model. This will learn the parameters $\\mathbf{X}$, $\\mathbf{W}$, and $\\mathbf{b}$. ",
      "metadata": {}
    },
    {
      "cell_type": "markdown",
      "source": "The operations involved in learning $w$, $b$, and $x$ simultaneously do not fall into the typical 'layers' offered in the TensorFlow neural network package.  Consequently, the flow used in Course 2: Model, Compile(), Fit(), Predict(), are not directly applicable. Instead, we can use a custom training loop.\n\nRecall from earlier labs the steps of gradient descent.\n- repeat until convergence:\n    - compute forward pass\n    - compute the derivatives of the loss relative to parameters\n    - update the parameters using the learning rate and the computed derivatives \n    \nTensorFlow has the marvelous capability of calculating the derivatives for you. This is shown below. Within the `tf.GradientTape()` section, operations on Tensorflow Variables are tracked. When `tape.gradient()` is later called, it will return the gradient of the loss relative to the tracked variables. The gradients can then be applied to the parameters using an optimizer. \nThis is a very brief introduction to a useful feature of TensorFlow and other machine learning frameworks. Further information can be found by investigating \"custom training loops\" within the framework of interest.\n    \n",
      "metadata": {}
    },
    {
      "cell_type": "code",
      "source": "iterations = 200\nlambda_ = 1\nfor iter in range(iterations):\n    # Use TensorFlow’s GradientTape\n    # to record the operations used to compute the cost \n    with tf.GradientTape() as tape:\n\n        # Compute the cost (forward pass included in cost)\n        cost_value = cofi_cost_func_v(X, W, b, Ynorm, R, lambda_)\n\n    # Use the gradient tape to automatically retrieve\n    # the gradients of the trainable variables with respect to the loss\n    grads = tape.gradient( cost_value, [X,W,b] )\n\n    # Run one step of gradient descent by updating\n    # the value of the variables to minimize the loss.\n    optimizer.apply_gradients( zip(grads, [X,W,b]) )\n\n    # Log periodically.\n    if iter % 20 == 0:\n        print(f\"Training loss at iteration {iter}: {cost_value:0.1f}\")",
      "metadata": {
        "deletable": false,
        "editable": false
      },
      "outputs": [
        {
          "name": "stdout",
          "output_type": "stream",
          "text": [
            "Training loss at iteration 0: 2321191.3\n",
            "Training loss at iteration 20: 136169.3\n",
            "Training loss at iteration 40: 51863.7\n",
            "Training loss at iteration 60: 24599.0\n",
            "Training loss at iteration 80: 13630.6\n",
            "Training loss at iteration 100: 8487.7\n",
            "Training loss at iteration 120: 5807.8\n",
            "Training loss at iteration 140: 4311.6\n",
            "Training loss at iteration 160: 3435.3\n",
            "Training loss at iteration 180: 2902.1\n"
          ]
        }
      ],
      "execution_count": 69
    },
    {
      "cell_type": "markdown",
      "source": "<a name=\"6\"></a>\n## 6 - Recommendations\nBelow, we compute the ratings for all the movies and users and display the movies that are recommended. These are based on the movies and ratings entered as `my_ratings[]` above. To predict the rating of movie $i$ for user $j$, you compute $\\mathbf{w}^{(j)} \\cdot \\mathbf{x}^{(i)} + b^{(j)}$. This can be computed for all ratings using matrix multiplication.",
      "metadata": {
        "id": "SSzUL7eQodYS"
      }
    },
    {
      "cell_type": "code",
      "source": "# Make a prediction using trained weights and biases\np = np.matmul(X.numpy(), np.transpose(W.numpy())) + b.numpy()\n\n#restore the mean\npm = p + Ymean\n\nmy_predictions = pm[:,0]\n\n# sort predictions\nix = tf.argsort(my_predictions, direction='DESCENDING')\n\nfor i in range(17):\n    j = ix[i]\n    if j not in my_rated:\n        print(f'Predicting rating {my_predictions[j]:0.2f} for movie {movieList[j]}')\n\nprint('\\n\\nOriginal vs Predicted ratings:\\n')\nfor i in range(len(my_ratings)):\n    if my_ratings[i] > 0:\n        print(f'Original {my_ratings[i]}, Predicted {my_predictions[i]:0.2f} for {movieList[i]}')",
      "metadata": {
        "deletable": false,
        "editable": false,
        "id": "ns266wKtodYT"
      },
      "outputs": [
        {
          "name": "stdout",
          "output_type": "stream",
          "text": [
            "Predicting rating 4.49 for movie My Sassy Girl (Yeopgijeogin geunyeo) (2001)\n",
            "Predicting rating 4.48 for movie Martin Lawrence Live: Runteldat (2002)\n",
            "Predicting rating 4.48 for movie Memento (2000)\n",
            "Predicting rating 4.47 for movie Delirium (2014)\n",
            "Predicting rating 4.47 for movie Laggies (2014)\n",
            "Predicting rating 4.47 for movie One I Love, The (2014)\n",
            "Predicting rating 4.46 for movie Particle Fever (2013)\n",
            "Predicting rating 4.45 for movie Eichmann (2007)\n",
            "Predicting rating 4.45 for movie Battle Royale 2: Requiem (Batoru rowaiaru II: Chinkonka) (2003)\n",
            "Predicting rating 4.45 for movie Into the Abyss (2011)\n",
            "\n",
            "\n",
            "Original vs Predicted ratings:\n",
            "\n",
            "Original 5.0, Predicted 4.90 for Shrek (2001)\n",
            "Original 5.0, Predicted 4.84 for Harry Potter and the Sorcerer's Stone (a.k.a. Harry Potter and the Philosopher's Stone) (2001)\n",
            "Original 2.0, Predicted 2.13 for Amelie (Fabuleux destin d'Amélie Poulain, Le) (2001)\n",
            "Original 5.0, Predicted 4.88 for Harry Potter and the Chamber of Secrets (2002)\n",
            "Original 5.0, Predicted 4.87 for Pirates of the Caribbean: The Curse of the Black Pearl (2003)\n",
            "Original 5.0, Predicted 4.89 for Lord of the Rings: The Return of the King, The (2003)\n",
            "Original 3.0, Predicted 3.00 for Eternal Sunshine of the Spotless Mind (2004)\n",
            "Original 5.0, Predicted 4.90 for Incredibles, The (2004)\n",
            "Original 2.0, Predicted 2.11 for Persuasion (2007)\n",
            "Original 5.0, Predicted 4.80 for Toy Story 3 (2010)\n",
            "Original 3.0, Predicted 3.00 for Inception (2010)\n",
            "Original 1.0, Predicted 1.41 for Louis Theroux: Law & Disorder (2008)\n",
            "Original 1.0, Predicted 1.26 for Nothing to Declare (Rien à déclarer) (2010)\n"
          ]
        }
      ],
      "execution_count": 70
    },
    {
      "cell_type": "markdown",
      "source": "In practice, additional information can be utilized to enhance our predictions. Above, the predicted ratings for the first few hundred movies lie in a small range. We can augment the above by selecting from those top movies, movies that have high average ratings and movies with more than 20 ratings. This section uses a [Pandas](https://pandas.pydata.org/) data frame which has many handy sorting features.",
      "metadata": {}
    },
    {
      "cell_type": "code",
      "source": "filter=(movieList_df[\"number of ratings\"] > 20)\nmovieList_df[\"pred\"] = my_predictions\nmovieList_df = movieList_df.reindex(columns=[\"pred\", \"mean rating\", \"number of ratings\", \"title\"])\nmovieList_df.loc[ix[:300]].loc[filter].sort_values(\"mean rating\", ascending=False)",
      "metadata": {
        "deletable": false,
        "editable": false
      },
      "outputs": [
        {
          "data": {
            "text/html": [
              "<div>\n",
              "<style scoped>\n",
              "    .dataframe tbody tr th:only-of-type {\n",
              "        vertical-align: middle;\n",
              "    }\n",
              "\n",
              "    .dataframe tbody tr th {\n",
              "        vertical-align: top;\n",
              "    }\n",
              "\n",
              "    .dataframe thead th {\n",
              "        text-align: right;\n",
              "    }\n",
              "</style>\n",
              "<table border=\"1\" class=\"dataframe\">\n",
              "  <thead>\n",
              "    <tr style=\"text-align: right;\">\n",
              "      <th></th>\n",
              "      <th>pred</th>\n",
              "      <th>mean rating</th>\n",
              "      <th>number of ratings</th>\n",
              "      <th>title</th>\n",
              "    </tr>\n",
              "  </thead>\n",
              "  <tbody>\n",
              "    <tr>\n",
              "      <th>1743</th>\n",
              "      <td>4.030961</td>\n",
              "      <td>4.252336</td>\n",
              "      <td>107</td>\n",
              "      <td>Departed, The (2006)</td>\n",
              "    </tr>\n",
              "    <tr>\n",
              "      <th>2112</th>\n",
              "      <td>3.985281</td>\n",
              "      <td>4.238255</td>\n",
              "      <td>149</td>\n",
              "      <td>Dark Knight, The (2008)</td>\n",
              "    </tr>\n",
              "    <tr>\n",
              "      <th>211</th>\n",
              "      <td>4.477798</td>\n",
              "      <td>4.122642</td>\n",
              "      <td>159</td>\n",
              "      <td>Memento (2000)</td>\n",
              "    </tr>\n",
              "    <tr>\n",
              "      <th>929</th>\n",
              "      <td>4.887054</td>\n",
              "      <td>4.118919</td>\n",
              "      <td>185</td>\n",
              "      <td>Lord of the Rings: The Return of the King, The...</td>\n",
              "    </tr>\n",
              "    <tr>\n",
              "      <th>2700</th>\n",
              "      <td>4.796531</td>\n",
              "      <td>4.109091</td>\n",
              "      <td>55</td>\n",
              "      <td>Toy Story 3 (2010)</td>\n",
              "    </tr>\n",
              "    <tr>\n",
              "      <th>653</th>\n",
              "      <td>4.357304</td>\n",
              "      <td>4.021277</td>\n",
              "      <td>188</td>\n",
              "      <td>Lord of the Rings: The Two Towers, The (2002)</td>\n",
              "    </tr>\n",
              "    <tr>\n",
              "      <th>1122</th>\n",
              "      <td>4.004471</td>\n",
              "      <td>4.006494</td>\n",
              "      <td>77</td>\n",
              "      <td>Shaun of the Dead (2004)</td>\n",
              "    </tr>\n",
              "    <tr>\n",
              "      <th>1841</th>\n",
              "      <td>3.980649</td>\n",
              "      <td>4.000000</td>\n",
              "      <td>61</td>\n",
              "      <td>Hot Fuzz (2007)</td>\n",
              "    </tr>\n",
              "    <tr>\n",
              "      <th>3083</th>\n",
              "      <td>4.084643</td>\n",
              "      <td>3.993421</td>\n",
              "      <td>76</td>\n",
              "      <td>Dark Knight Rises, The (2012)</td>\n",
              "    </tr>\n",
              "    <tr>\n",
              "      <th>2804</th>\n",
              "      <td>4.434171</td>\n",
              "      <td>3.989362</td>\n",
              "      <td>47</td>\n",
              "      <td>Harry Potter and the Deathly Hallows: Part 1 (...</td>\n",
              "    </tr>\n",
              "    <tr>\n",
              "      <th>773</th>\n",
              "      <td>4.289676</td>\n",
              "      <td>3.960993</td>\n",
              "      <td>141</td>\n",
              "      <td>Finding Nemo (2003)</td>\n",
              "    </tr>\n",
              "    <tr>\n",
              "      <th>1771</th>\n",
              "      <td>4.344999</td>\n",
              "      <td>3.944444</td>\n",
              "      <td>81</td>\n",
              "      <td>Casino Royale (2006)</td>\n",
              "    </tr>\n",
              "    <tr>\n",
              "      <th>2649</th>\n",
              "      <td>4.133481</td>\n",
              "      <td>3.943396</td>\n",
              "      <td>53</td>\n",
              "      <td>How to Train Your Dragon (2010)</td>\n",
              "    </tr>\n",
              "    <tr>\n",
              "      <th>2455</th>\n",
              "      <td>4.175743</td>\n",
              "      <td>3.887931</td>\n",
              "      <td>58</td>\n",
              "      <td>Harry Potter and the Half-Blood Prince (2009)</td>\n",
              "    </tr>\n",
              "    <tr>\n",
              "      <th>361</th>\n",
              "      <td>4.135287</td>\n",
              "      <td>3.871212</td>\n",
              "      <td>132</td>\n",
              "      <td>Monsters, Inc. (2001)</td>\n",
              "    </tr>\n",
              "    <tr>\n",
              "      <th>3014</th>\n",
              "      <td>3.967900</td>\n",
              "      <td>3.869565</td>\n",
              "      <td>69</td>\n",
              "      <td>Avengers, The (2012)</td>\n",
              "    </tr>\n",
              "    <tr>\n",
              "      <th>246</th>\n",
              "      <td>4.897137</td>\n",
              "      <td>3.867647</td>\n",
              "      <td>170</td>\n",
              "      <td>Shrek (2001)</td>\n",
              "    </tr>\n",
              "    <tr>\n",
              "      <th>151</th>\n",
              "      <td>3.971892</td>\n",
              "      <td>3.836364</td>\n",
              "      <td>110</td>\n",
              "      <td>Crouching Tiger, Hidden Dragon (Wo hu cang lon...</td>\n",
              "    </tr>\n",
              "    <tr>\n",
              "      <th>1150</th>\n",
              "      <td>4.898892</td>\n",
              "      <td>3.836000</td>\n",
              "      <td>125</td>\n",
              "      <td>Incredibles, The (2004)</td>\n",
              "    </tr>\n",
              "    <tr>\n",
              "      <th>793</th>\n",
              "      <td>4.874936</td>\n",
              "      <td>3.778523</td>\n",
              "      <td>149</td>\n",
              "      <td>Pirates of the Caribbean: The Curse of the Bla...</td>\n",
              "    </tr>\n",
              "    <tr>\n",
              "      <th>366</th>\n",
              "      <td>4.843375</td>\n",
              "      <td>3.761682</td>\n",
              "      <td>107</td>\n",
              "      <td>Harry Potter and the Sorcerer's Stone (a.k.a. ...</td>\n",
              "    </tr>\n",
              "    <tr>\n",
              "      <th>754</th>\n",
              "      <td>4.021778</td>\n",
              "      <td>3.723684</td>\n",
              "      <td>76</td>\n",
              "      <td>X2: X-Men United (2003)</td>\n",
              "    </tr>\n",
              "    <tr>\n",
              "      <th>79</th>\n",
              "      <td>4.242986</td>\n",
              "      <td>3.699248</td>\n",
              "      <td>133</td>\n",
              "      <td>X-Men (2000)</td>\n",
              "    </tr>\n",
              "    <tr>\n",
              "      <th>622</th>\n",
              "      <td>4.878342</td>\n",
              "      <td>3.598039</td>\n",
              "      <td>102</td>\n",
              "      <td>Harry Potter and the Chamber of Secrets (2002)</td>\n",
              "    </tr>\n",
              "  </tbody>\n",
              "</table>\n",
              "</div>"
            ],
            "text/plain": [
              "          pred  mean rating  number of ratings  \\\n",
              "1743  4.030961     4.252336                107   \n",
              "2112  3.985281     4.238255                149   \n",
              "211   4.477798     4.122642                159   \n",
              "929   4.887054     4.118919                185   \n",
              "2700  4.796531     4.109091                 55   \n",
              "653   4.357304     4.021277                188   \n",
              "1122  4.004471     4.006494                 77   \n",
              "1841  3.980649     4.000000                 61   \n",
              "3083  4.084643     3.993421                 76   \n",
              "2804  4.434171     3.989362                 47   \n",
              "773   4.289676     3.960993                141   \n",
              "1771  4.344999     3.944444                 81   \n",
              "2649  4.133481     3.943396                 53   \n",
              "2455  4.175743     3.887931                 58   \n",
              "361   4.135287     3.871212                132   \n",
              "3014  3.967900     3.869565                 69   \n",
              "246   4.897137     3.867647                170   \n",
              "151   3.971892     3.836364                110   \n",
              "1150  4.898892     3.836000                125   \n",
              "793   4.874936     3.778523                149   \n",
              "366   4.843375     3.761682                107   \n",
              "754   4.021778     3.723684                 76   \n",
              "79    4.242986     3.699248                133   \n",
              "622   4.878342     3.598039                102   \n",
              "\n",
              "                                                  title  \n",
              "1743                               Departed, The (2006)  \n",
              "2112                            Dark Knight, The (2008)  \n",
              "211                                      Memento (2000)  \n",
              "929   Lord of the Rings: The Return of the King, The...  \n",
              "2700                                 Toy Story 3 (2010)  \n",
              "653       Lord of the Rings: The Two Towers, The (2002)  \n",
              "1122                           Shaun of the Dead (2004)  \n",
              "1841                                    Hot Fuzz (2007)  \n",
              "3083                      Dark Knight Rises, The (2012)  \n",
              "2804  Harry Potter and the Deathly Hallows: Part 1 (...  \n",
              "773                                 Finding Nemo (2003)  \n",
              "1771                               Casino Royale (2006)  \n",
              "2649                    How to Train Your Dragon (2010)  \n",
              "2455      Harry Potter and the Half-Blood Prince (2009)  \n",
              "361                               Monsters, Inc. (2001)  \n",
              "3014                               Avengers, The (2012)  \n",
              "246                                        Shrek (2001)  \n",
              "151   Crouching Tiger, Hidden Dragon (Wo hu cang lon...  \n",
              "1150                            Incredibles, The (2004)  \n",
              "793   Pirates of the Caribbean: The Curse of the Bla...  \n",
              "366   Harry Potter and the Sorcerer's Stone (a.k.a. ...  \n",
              "754                             X2: X-Men United (2003)  \n",
              "79                                         X-Men (2000)  \n",
              "622      Harry Potter and the Chamber of Secrets (2002)  "
            ]
          },
          "execution_count": 71,
          "metadata": {},
          "output_type": "execute_result"
        }
      ],
      "execution_count": 71
    },
    {
      "cell_type": "markdown",
      "source": "<a name=\"7\"></a>\n## 7 - Congratulations! <img align=\"left\" src=\"./images/film_award.png\"     style=\" width:40px;  \" >\nYou have implemented a useful recommender system!",
      "metadata": {}
    },
    {
      "cell_type": "markdown",
      "source": "<details>\n  <summary><font size=\"2\" color=\"darkgreen\"><b>Please click here if you want to experiment with any of the non-graded code.</b></font></summary>\n    <p><i><b>Important Note: Please only do this when you've already passed the assignment to avoid problems with the autograder.</b></i>\n    <ol>\n        <li> On the notebook’s menu, click “View” > “Cell Toolbar” > “Edit Metadata”</li>\n        <li> Hit the “Edit Metadata” button next to the code cell which you want to lock/unlock</li>\n        <li> Set the attribute value for “editable” to:\n            <ul>\n                <li> “true” if you want to unlock it </li>\n                <li> “false” if you want to lock it </li>\n            </ul>\n        </li>\n        <li> On the notebook’s menu, click “View” > “Cell Toolbar” > “None” </li>\n    </ol>\n    <p> Here's a short demo of how to do the steps above: \n        <br>\n        <img src=\"https://lh3.google.com/u/0/d/14Xy_Mb17CZVgzVAgq7NCjMVBvSae3xO1\" align=\"center\" alt=\"unlock_cells.gif\">\n</details>",
      "metadata": {}
    },
    {
      "cell_type": "markdown",
      "source": "Git:https://github.com/mghashghaei/MachineLearning/tree/main/Assignment05",
      "metadata": {}
    },
    {
      "cell_type": "markdown",
      "source": "Medium:https://medium.com/@mghashghaei/ََ-1a9000edd049",
      "metadata": {}
    },
    {
      "cell_type": "markdown",
      "source": "",
      "metadata": {}
    }
  ]
}